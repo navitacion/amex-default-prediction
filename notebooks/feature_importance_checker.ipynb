{
 "cells": [
  {
   "cell_type": "code",
   "execution_count": 4,
   "id": "555c2bc7-dd55-4a88-a27f-8ecd85beeba5",
   "metadata": {},
   "outputs": [],
   "source": [
    "import pandas as pd\n",
    "\n",
    "pd.options.display.max_rows = None\n",
    "pd.options.display.max_columns = None\n",
    "pd.options.display.float_format = '{:.7f}'.format"
   ]
  },
  {
   "cell_type": "code",
   "execution_count": 5,
   "id": "d8517097-b8e4-49f4-b5d6-722f78a8b8ec",
   "metadata": {},
   "outputs": [],
   "source": [
    "df = pd.read_csv('feature_importance.csv')"
   ]
  },
  {
   "cell_type": "code",
   "execution_count": 6,
   "id": "34a11796-cbc9-4567-ad7e-70a6e4407b38",
   "metadata": {},
   "outputs": [],
   "source": [
    "# df['suffix'] = df['feature'].apply(lambda x: x.split('_')[-2] + '_' + x.split('_')[-1])\n",
    "\n",
    "df['suffix'] = df['feature'].apply(lambda x: x.split('_')[1])"
   ]
  },
  {
   "cell_type": "code",
   "execution_count": 7,
   "id": "86c0cc06-f887-4aae-9ace-605ba40e9794",
   "metadata": {},
   "outputs": [
    {
     "data": {
      "text/html": [
       "<div>\n",
       "<style scoped>\n",
       "    .dataframe tbody tr th:only-of-type {\n",
       "        vertical-align: middle;\n",
       "    }\n",
       "\n",
       "    .dataframe tbody tr th {\n",
       "        vertical-align: top;\n",
       "    }\n",
       "\n",
       "    .dataframe thead th {\n",
       "        text-align: right;\n",
       "    }\n",
       "</style>\n",
       "<table border=\"1\" class=\"dataframe\">\n",
       "  <thead>\n",
       "    <tr style=\"text-align: right;\">\n",
       "      <th></th>\n",
       "      <th>feature</th>\n",
       "      <th>importance</th>\n",
       "      <th>suffix</th>\n",
       "    </tr>\n",
       "  </thead>\n",
       "  <tbody>\n",
       "    <tr>\n",
       "      <th>0</th>\n",
       "      <td>fe_group_last_key_ID_P_2</td>\n",
       "      <td>0.0106728</td>\n",
       "      <td>group</td>\n",
       "    </tr>\n",
       "    <tr>\n",
       "      <th>1</th>\n",
       "      <td>fe_group_last_key_ID_B_9</td>\n",
       "      <td>0.0054684</td>\n",
       "      <td>group</td>\n",
       "    </tr>\n",
       "    <tr>\n",
       "      <th>2</th>\n",
       "      <td>fe_group_last_key_ID_D_48</td>\n",
       "      <td>0.0037107</td>\n",
       "      <td>group</td>\n",
       "    </tr>\n",
       "    <tr>\n",
       "      <th>3</th>\n",
       "      <td>fe_tar_enc_smoothing_fe_kmean_cluster_id</td>\n",
       "      <td>0.0028536</td>\n",
       "      <td>tar</td>\n",
       "    </tr>\n",
       "    <tr>\n",
       "      <th>4</th>\n",
       "      <td>fe_group_max_key_ID_R_1</td>\n",
       "      <td>0.0027827</td>\n",
       "      <td>group</td>\n",
       "    </tr>\n",
       "  </tbody>\n",
       "</table>\n",
       "</div>"
      ],
      "text/plain": [
       "                                    feature  importance suffix\n",
       "0                  fe_group_last_key_ID_P_2   0.0106728  group\n",
       "1                  fe_group_last_key_ID_B_9   0.0054684  group\n",
       "2                 fe_group_last_key_ID_D_48   0.0037107  group\n",
       "3  fe_tar_enc_smoothing_fe_kmean_cluster_id   0.0028536    tar\n",
       "4                   fe_group_max_key_ID_R_1   0.0027827  group"
      ]
     },
     "execution_count": 7,
     "metadata": {},
     "output_type": "execute_result"
    }
   ],
   "source": [
    "df.head()"
   ]
  },
  {
   "cell_type": "code",
   "execution_count": 8,
   "id": "003e133a-85d7-4780-bf87-78a5d3cd1bd2",
   "metadata": {},
   "outputs": [
    {
     "data": {
      "text/plain": [
       "suffix\n",
       "kmean                    0.0012298\n",
       "kmeans                   0.0006581\n",
       "group                    0.0001013\n",
       "tar                      0.0000564\n",
       "rollingMean              0.0000374\n",
       "freq                     0.0000192\n",
       "recentDiff               0.0000121\n",
       "recentPayDiffBeforePay   0.0000076\n",
       "nullCount                0.0000053\n",
       "transaction              0.0000040\n",
       "is                       0.0000000\n",
       "Name: importance, dtype: float64"
      ]
     },
     "execution_count": 8,
     "metadata": {},
     "output_type": "execute_result"
    }
   ],
   "source": [
    "df.groupby('suffix')['importance'].mean().sort_values(ascending=False)"
   ]
  },
  {
   "cell_type": "code",
   "execution_count": 10,
   "id": "45d21730-c3be-464d-b53c-f269ae0967c7",
   "metadata": {},
   "outputs": [
    {
     "data": {
      "text/html": [
       "<div>\n",
       "<style scoped>\n",
       "    .dataframe tbody tr th:only-of-type {\n",
       "        vertical-align: middle;\n",
       "    }\n",
       "\n",
       "    .dataframe tbody tr th {\n",
       "        vertical-align: top;\n",
       "    }\n",
       "\n",
       "    .dataframe thead th {\n",
       "        text-align: right;\n",
       "    }\n",
       "</style>\n",
       "<table border=\"1\" class=\"dataframe\">\n",
       "  <thead>\n",
       "    <tr style=\"text-align: right;\">\n",
       "      <th></th>\n",
       "      <th>feature</th>\n",
       "      <th>importance</th>\n",
       "      <th>suffix</th>\n",
       "    </tr>\n",
       "  </thead>\n",
       "  <tbody>\n",
       "    <tr>\n",
       "      <th>10</th>\n",
       "      <td>fe_kmean_cluster_id</td>\n",
       "      <td>0.0012298</td>\n",
       "      <td>kmean</td>\n",
       "    </tr>\n",
       "  </tbody>\n",
       "</table>\n",
       "</div>"
      ],
      "text/plain": [
       "                feature  importance suffix\n",
       "10  fe_kmean_cluster_id   0.0012298  kmean"
      ]
     },
     "execution_count": 10,
     "metadata": {},
     "output_type": "execute_result"
    }
   ],
   "source": [
    "df[df['suffix'] == 'kmean']"
   ]
  },
  {
   "cell_type": "code",
   "execution_count": 20,
   "id": "b28c2386-62ae-4927-a80c-f152e17300bc",
   "metadata": {},
   "outputs": [
    {
     "data": {
      "text/plain": [
       "suffix\n",
       "group                     602\n",
       "recentDiff                450\n",
       "rollingMean               150\n",
       "nullCount                  64\n",
       "transaction                 4\n",
       "is                          1\n",
       "recentPayDiffBeforePay      1\n",
       "Name: importance, dtype: int64"
      ]
     },
     "execution_count": 20,
     "metadata": {},
     "output_type": "execute_result"
    }
   ],
   "source": [
    "df.groupby('suffix')['importance'].count().sort_values(ascending=False)"
   ]
  },
  {
   "cell_type": "code",
   "execution_count": 26,
   "id": "7ece8c69-d498-4f0a-81c1-1f94c8dc965b",
   "metadata": {},
   "outputs": [
    {
     "data": {
      "text/plain": [
       "suffix\n",
       "grouplast   0.0001981\n",
       "groupmean   0.0000400\n",
       "groupmax    0.0000363\n",
       "groupmin    0.0000217\n",
       "Name: importance, dtype: float64"
      ]
     },
     "execution_count": 26,
     "metadata": {},
     "output_type": "execute_result"
    }
   ],
   "source": [
    "tmp = df[df['feature'].str.contains('group')].reset_index(drop=True)\n",
    "tmp['suffix'] = tmp['feature'].apply(lambda x: x.split('_')[1] + x.split('_')[2])\n",
    "tmp.groupby('suffix')['importance'].mean().sort_values(ascending=False)"
   ]
  },
  {
   "cell_type": "code",
   "execution_count": 28,
   "id": "1a69f25f-6942-4a36-9414-00f794d85d0a",
   "metadata": {},
   "outputs": [
    {
     "data": {
      "text/plain": [
       "suffix\n",
       "recentDiffinterval3   0.0000129\n",
       "recentDiffinterval2   0.0000101\n",
       "recentDiffinterval1   0.0000097\n",
       "Name: importance, dtype: float64"
      ]
     },
     "execution_count": 28,
     "metadata": {},
     "output_type": "execute_result"
    }
   ],
   "source": [
    "tmp = df[df['feature'].str.contains('recentDiff')].reset_index(drop=True)\n",
    "tmp['suffix'] = tmp['feature'].apply(lambda x: x.split('_')[1] + x.split('_')[2] + x.split('_')[3])\n",
    "tmp.groupby('suffix')['importance'].mean().sort_values(ascending=False)"
   ]
  },
  {
   "cell_type": "code",
   "execution_count": 29,
   "id": "fe907276-4196-4687-9ab7-01ce0398bdca",
   "metadata": {},
   "outputs": [
    {
     "data": {
      "text/plain": [
       "suffix\n",
       "rollingMeanwindow6   0.0000137\n",
       "Name: importance, dtype: float64"
      ]
     },
     "execution_count": 29,
     "metadata": {},
     "output_type": "execute_result"
    }
   ],
   "source": [
    "tmp = df[df['feature'].str.contains('rolling')].reset_index(drop=True)\n",
    "tmp['suffix'] = tmp['feature'].apply(lambda x: x.split('_')[1] + x.split('_')[2] + x.split('_')[3])\n",
    "tmp.groupby('suffix')['importance'].mean().sort_values(ascending=False)"
   ]
  },
  {
   "cell_type": "code",
   "execution_count": null,
   "id": "2591cc31-1f9f-499e-b4fb-02d747b7a4cd",
   "metadata": {},
   "outputs": [],
   "source": []
  }
 ],
 "metadata": {
  "kernelspec": {
   "display_name": "Python 3 (ipykernel)",
   "language": "python",
   "name": "python3"
  },
  "language_info": {
   "codemirror_mode": {
    "name": "ipython",
    "version": 3
   },
   "file_extension": ".py",
   "mimetype": "text/x-python",
   "name": "python",
   "nbconvert_exporter": "python",
   "pygments_lexer": "ipython3",
   "version": "3.8.13"
  }
 },
 "nbformat": 4,
 "nbformat_minor": 5
}
